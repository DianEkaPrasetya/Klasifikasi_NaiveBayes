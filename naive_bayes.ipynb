{
  "nbformat": 4,
  "nbformat_minor": 0,
  "metadata": {
    "colab": {
      "name": "naive_bayes.ipynb",
      "provenance": [],
      "collapsed_sections": []
    },
    "kernelspec": {
      "name": "python3",
      "display_name": "Python 3"
    },
    "language_info": {
      "name": "python"
    }
  },
  "cells": [
    {
      "cell_type": "code",
      "execution_count": 1,
      "metadata": {
        "id": "vYfOAWZW9h-7"
      },
      "outputs": [],
      "source": [
        "import numpy as np\n",
        "import matplotlib.pyplot as plt\n",
        "import pandas as pd"
      ]
    },
    {
      "cell_type": "code",
      "source": [
        "dataset = pd.read_csv(\"diabetes.csv\")\n",
        "x = dataset.iloc[:, [6,7]].values\n",
        "y = dataset.iloc[:,-1].values"
      ],
      "metadata": {
        "id": "3JwG1vSq9ymc"
      },
      "execution_count": 4,
      "outputs": []
    },
    {
      "cell_type": "code",
      "source": [
        "print(x)"
      ],
      "metadata": {
        "colab": {
          "base_uri": "https://localhost:8080/"
        },
        "id": "7GeAyZHO9120",
        "outputId": "d6ac1106-7ca4-4bbb-99cb-c049d24be1c8"
      },
      "execution_count": 5,
      "outputs": [
        {
          "output_type": "stream",
          "name": "stdout",
          "text": [
            "[[ 0.627 50.   ]\n",
            " [ 0.351 31.   ]\n",
            " [ 0.672 32.   ]\n",
            " ...\n",
            " [ 0.245 30.   ]\n",
            " [ 0.349 47.   ]\n",
            " [ 0.315 23.   ]]\n"
          ]
        }
      ]
    },
    {
      "cell_type": "code",
      "source": [
        "print(y)"
      ],
      "metadata": {
        "colab": {
          "base_uri": "https://localhost:8080/"
        },
        "id": "7x1G-eVu-H2z",
        "outputId": "c8c857ca-2ccb-4eb9-e555-acf40c931303"
      },
      "execution_count": 6,
      "outputs": [
        {
          "output_type": "stream",
          "name": "stdout",
          "text": [
            "[1 0 1 0 1 0 1 0 1 1 0 1 0 1 1 1 1 1 0 1 0 0 1 1 1 1 1 0 0 0 0 1 0 0 0 0 0\n",
            " 1 1 1 0 0 0 1 0 1 0 0 1 0 0 0 0 1 0 0 1 0 0 0 0 1 0 0 1 0 1 0 0 0 1 0 1 0\n",
            " 0 0 0 0 1 0 0 0 0 0 1 0 0 0 1 0 0 0 0 1 0 0 0 0 0 1 1 0 0 0 0 0 0 0 0 1 1\n",
            " 1 0 0 1 1 1 0 0 0 1 0 0 0 1 1 0 0 1 1 1 1 1 0 0 0 0 0 0 0 0 0 0 1 0 0 0 0\n",
            " 0 0 0 0 1 0 1 1 0 0 0 1 0 0 0 0 1 1 0 0 0 0 1 1 0 0 0 1 0 1 0 1 0 0 0 0 0\n",
            " 1 1 1 1 1 0 0 1 1 0 1 0 1 1 1 0 0 0 0 0 0 1 1 0 1 0 0 0 1 1 1 1 0 1 1 1 1\n",
            " 0 0 0 0 0 1 0 0 1 1 0 0 0 1 1 1 1 0 0 0 1 1 0 1 0 0 0 0 0 0 0 0 1 1 0 0 0\n",
            " 1 0 1 0 0 1 0 1 0 0 1 1 0 0 0 0 0 1 0 0 0 1 0 0 1 1 0 0 1 0 0 0 1 1 1 0 0\n",
            " 1 0 1 0 1 1 0 1 0 0 1 0 1 1 0 0 1 0 1 0 0 1 0 1 0 1 1 1 0 0 1 0 1 0 0 0 1\n",
            " 0 0 0 0 1 1 1 0 0 0 0 0 0 0 0 0 1 0 0 0 0 0 1 1 1 0 1 1 0 0 1 0 0 1 0 0 1\n",
            " 1 0 0 0 0 1 0 0 1 0 0 0 0 0 0 0 1 1 1 0 0 1 0 0 1 0 0 1 0 1 1 0 1 0 1 0 1\n",
            " 0 1 1 0 0 0 0 1 1 0 1 0 1 0 0 0 0 1 1 0 1 0 1 0 0 0 0 0 1 0 0 0 0 1 0 0 1\n",
            " 1 1 0 0 1 0 0 1 0 0 0 1 0 0 1 0 0 0 0 0 0 0 0 0 1 0 0 0 0 0 0 0 1 0 0 0 1\n",
            " 0 0 0 1 1 0 0 0 0 0 0 0 1 0 0 0 0 1 0 0 0 1 0 0 0 1 0 0 0 1 0 0 0 0 1 1 0\n",
            " 0 0 0 0 0 1 0 0 0 0 0 0 0 0 0 0 0 1 0 0 0 1 1 1 1 0 0 1 1 0 0 0 0 0 0 0 0\n",
            " 0 0 0 0 0 1 1 0 0 0 0 0 0 0 1 0 0 0 0 0 0 0 1 0 1 1 0 0 0 1 0 1 0 1 0 1 0\n",
            " 1 0 0 1 0 0 1 0 0 0 0 1 1 0 1 0 0 0 0 1 1 0 1 0 0 0 1 1 0 0 0 0 0 0 0 0 0\n",
            " 0 1 0 0 0 0 1 0 0 1 0 0 0 1 0 0 0 1 1 1 0 0 0 0 0 0 1 0 0 0 1 0 1 1 1 1 0\n",
            " 1 1 0 0 0 0 0 0 0 1 1 0 1 0 0 1 0 1 0 0 0 0 0 1 0 1 0 1 0 1 1 0 0 0 0 1 1\n",
            " 0 0 0 1 0 1 1 0 0 1 0 0 1 1 0 0 1 0 0 1 0 0 0 0 0 0 0 1 1 1 0 0 0 0 0 0 1\n",
            " 1 0 0 1 0 0 1 0 1 1 1 0 0 1 1 1 0 1 0 1 0 1 0 0 0 0 1 0]\n"
          ]
        }
      ]
    },
    {
      "cell_type": "code",
      "source": [
        "from sklearn.model_selection import train_test_split\n",
        "x_train, x_test, y_train, y_test = train_test_split(x,y, test_size=0.25, random_state=0)"
      ],
      "metadata": {
        "id": "ZXi88IsT-RDt"
      },
      "execution_count": 8,
      "outputs": []
    },
    {
      "cell_type": "code",
      "source": [
        "print(x_train)"
      ],
      "metadata": {
        "colab": {
          "base_uri": "https://localhost:8080/"
        },
        "id": "OkubFn4m-dIE",
        "outputId": "f14ff40e-d134-4c7e-e7e0-05726cf143cb"
      },
      "execution_count": 9,
      "outputs": [
        {
          "output_type": "stream",
          "name": "stdout",
          "text": [
            "[[ 0.142 33.   ]\n",
            " [ 0.261 23.   ]\n",
            " [ 0.601 27.   ]\n",
            " ...\n",
            " [ 0.148 21.   ]\n",
            " [ 0.3   35.   ]\n",
            " [ 0.64  69.   ]]\n"
          ]
        }
      ]
    },
    {
      "cell_type": "code",
      "source": [
        "print(x_test)"
      ],
      "metadata": {
        "colab": {
          "base_uri": "https://localhost:8080/"
        },
        "id": "Rdlo0Isw-eqj",
        "outputId": "bebff046-795a-44bc-87a0-fa2a729b5111"
      },
      "execution_count": 10,
      "outputs": [
        {
          "output_type": "stream",
          "name": "stdout",
          "text": [
            "[[ 1.394 22.   ]\n",
            " [ 0.404 23.   ]\n",
            " [ 0.391 25.   ]\n",
            " [ 0.587 51.   ]\n",
            " [ 0.66  31.   ]\n",
            " [ 0.283 24.   ]\n",
            " [ 0.893 33.   ]\n",
            " [ 1.154 52.   ]\n",
            " [ 1.6   25.   ]\n",
            " [ 0.324 55.   ]\n",
            " [ 0.851 28.   ]\n",
            " [ 1.034 53.   ]\n",
            " [ 0.744 57.   ]\n",
            " [ 1.699 25.   ]\n",
            " [ 0.6   42.   ]\n",
            " [ 0.787 32.   ]\n",
            " [ 0.719 36.   ]\n",
            " [ 0.248 21.   ]\n",
            " [ 0.419 63.   ]\n",
            " [ 0.499 30.   ]\n",
            " [ 0.554 37.   ]\n",
            " [ 0.693 21.   ]\n",
            " [ 0.773 25.   ]\n",
            " [ 0.243 46.   ]\n",
            " [ 0.487 22.   ]\n",
            " [ 0.514 21.   ]\n",
            " [ 0.582 27.   ]\n",
            " [ 1.174 39.   ]\n",
            " [ 0.307 24.   ]\n",
            " [ 0.292 30.   ]\n",
            " [ 0.647 51.   ]\n",
            " [ 0.496 21.   ]\n",
            " [ 0.695 27.   ]\n",
            " [ 0.816 28.   ]\n",
            " [ 0.205 24.   ]\n",
            " [ 0.135 41.   ]\n",
            " [ 0.26  42.   ]\n",
            " [ 0.313 21.   ]\n",
            " [ 0.28  25.   ]\n",
            " [ 0.271 26.   ]\n",
            " [ 0.725 23.   ]\n",
            " [ 0.559 21.   ]\n",
            " [ 0.497 32.   ]\n",
            " [ 0.241 25.   ]\n",
            " [ 0.158 53.   ]\n",
            " [ 0.572 21.   ]\n",
            " [ 0.128 21.   ]\n",
            " [ 0.219 28.   ]\n",
            " [ 0.905 26.   ]\n",
            " [ 0.536 27.   ]\n",
            " [ 0.245 36.   ]\n",
            " [ 0.318 22.   ]\n",
            " [ 0.742 38.   ]\n",
            " [ 0.391 39.   ]\n",
            " [ 0.381 25.   ]\n",
            " [ 0.14  22.   ]\n",
            " [ 0.351 31.   ]\n",
            " [ 0.209 28.   ]\n",
            " [ 0.542 23.   ]\n",
            " [ 0.261 30.   ]\n",
            " [ 0.165 43.   ]\n",
            " [ 0.385 30.   ]\n",
            " [ 0.206 21.   ]\n",
            " [ 0.933 25.   ]\n",
            " [ 0.345 29.   ]\n",
            " [ 1.191 39.   ]\n",
            " [ 0.302 49.   ]\n",
            " [ 0.254 40.   ]\n",
            " [ 0.38  42.   ]\n",
            " [ 0.28  38.   ]\n",
            " [ 0.158 21.   ]\n",
            " [ 0.209 37.   ]\n",
            " [ 0.238 25.   ]\n",
            " [ 1.461 45.   ]\n",
            " [ 0.479 26.   ]\n",
            " [ 0.252 30.   ]\n",
            " [ 0.285 47.   ]\n",
            " [ 0.839 39.   ]\n",
            " [ 0.317 34.   ]\n",
            " [ 0.218 30.   ]\n",
            " [ 0.19  42.   ]\n",
            " [ 0.399 24.   ]\n",
            " [ 0.698 27.   ]\n",
            " [ 0.299 21.   ]\n",
            " [ 0.284 28.   ]\n",
            " [ 0.237 29.   ]\n",
            " [ 0.402 22.   ]\n",
            " [ 0.183 33.   ]\n",
            " [ 0.586 51.   ]\n",
            " [ 0.347 21.   ]\n",
            " [ 0.1   30.   ]\n",
            " [ 0.284 27.   ]\n",
            " [ 0.626 25.   ]\n",
            " [ 0.491 22.   ]\n",
            " [ 0.341 50.   ]\n",
            " [ 0.43  22.   ]\n",
            " [ 0.871 32.   ]\n",
            " [ 0.27  27.   ]\n",
            " [ 1.39  56.   ]\n",
            " [ 0.376 46.   ]\n",
            " [ 0.167 27.   ]\n",
            " [ 0.637 21.   ]\n",
            " [ 0.191 30.   ]\n",
            " [ 0.334 25.   ]\n",
            " [ 1.101 24.   ]\n",
            " [ 0.955 33.   ]\n",
            " [ 0.515 21.   ]\n",
            " [ 0.17  22.   ]\n",
            " [ 0.284 30.   ]\n",
            " [ 0.672 32.   ]\n",
            " [ 0.766 22.   ]\n",
            " [ 0.26  36.   ]\n",
            " [ 0.129 41.   ]\n",
            " [ 1.321 33.   ]\n",
            " [ 0.258 22.   ]\n",
            " [ 0.165 47.   ]\n",
            " [ 0.881 22.   ]\n",
            " [ 0.655 24.   ]\n",
            " [ 0.143 23.   ]\n",
            " [ 0.785 48.   ]\n",
            " [ 0.236 38.   ]\n",
            " [ 0.305 65.   ]\n",
            " [ 0.15  28.   ]\n",
            " [ 0.259 62.   ]\n",
            " [ 0.256 21.   ]\n",
            " [ 0.191 25.   ]\n",
            " [ 0.598 28.   ]\n",
            " [ 0.66  35.   ]\n",
            " [ 0.687 62.   ]\n",
            " [ 0.326 22.   ]\n",
            " [ 0.411 26.   ]\n",
            " [ 0.305 24.   ]\n",
            " [ 0.29  25.   ]\n",
            " [ 0.702 28.   ]\n",
            " [ 0.738 41.   ]\n",
            " [ 0.665 46.   ]\n",
            " [ 0.181 29.   ]\n",
            " [ 0.344 31.   ]\n",
            " [ 0.761 27.   ]\n",
            " [ 0.455 27.   ]\n",
            " [ 0.166 25.   ]\n",
            " [ 0.338 37.   ]\n",
            " [ 0.187 21.   ]\n",
            " [ 0.391 41.   ]\n",
            " [ 0.258 42.   ]\n",
            " [ 0.551 21.   ]\n",
            " [ 0.342 30.   ]\n",
            " [ 0.313 41.   ]\n",
            " [ 1.095 22.   ]\n",
            " [ 0.711 29.   ]\n",
            " [ 0.306 28.   ]\n",
            " [ 0.645 22.   ]\n",
            " [ 0.107 24.   ]\n",
            " [ 0.821 24.   ]\n",
            " [ 0.692 54.   ]\n",
            " [ 0.443 22.   ]\n",
            " [ 0.427 23.   ]\n",
            " [ 0.833 23.   ]\n",
            " [ 0.183 38.   ]\n",
            " [ 0.578 40.   ]\n",
            " [ 0.326 47.   ]\n",
            " [ 0.129 59.   ]\n",
            " [ 0.323 22.   ]\n",
            " [ 0.717 22.   ]\n",
            " [ 0.2   37.   ]\n",
            " [ 0.141 24.   ]\n",
            " [ 0.18  41.   ]\n",
            " [ 0.343 23.   ]\n",
            " [ 0.151 24.   ]\n",
            " [ 0.197 46.   ]\n",
            " [ 0.559 21.   ]\n",
            " [ 0.705 39.   ]\n",
            " [ 0.254 31.   ]\n",
            " [ 0.293 42.   ]\n",
            " [ 0.2   63.   ]\n",
            " [ 0.446 22.   ]\n",
            " [ 0.485 57.   ]\n",
            " [ 0.156 35.   ]\n",
            " [ 0.118 27.   ]\n",
            " [ 0.192 21.   ]\n",
            " [ 0.18  36.   ]\n",
            " [ 0.257 44.   ]\n",
            " [ 0.629 24.   ]\n",
            " [ 1.893 25.   ]\n",
            " [ 1.182 22.   ]\n",
            " [ 0.587 36.   ]\n",
            " [ 0.27  26.   ]\n",
            " [ 0.368 29.   ]\n",
            " [ 0.422 25.   ]\n",
            " [ 0.947 21.   ]\n",
            " [ 0.268 55.   ]\n",
            " [ 0.258 37.   ]]\n"
          ]
        }
      ]
    },
    {
      "cell_type": "code",
      "source": [
        "print(y_train)"
      ],
      "metadata": {
        "colab": {
          "base_uri": "https://localhost:8080/"
        },
        "id": "GR4imF9w-mUV",
        "outputId": "cbdd3151-79d1-47eb-fe51-b31c7daa9118"
      },
      "execution_count": 11,
      "outputs": [
        {
          "output_type": "stream",
          "name": "stdout",
          "text": [
            "[0 0 0 1 1 0 0 0 0 0 0 0 1 0 0 0 1 0 1 0 0 0 0 0 1 1 0 0 1 0 1 1 0 0 1 1 0\n",
            " 0 0 1 0 0 1 1 0 1 0 1 0 1 0 1 0 1 0 0 0 0 0 1 0 1 0 1 0 0 0 0 0 0 0 0 1 0\n",
            " 1 1 1 1 0 0 0 0 1 1 0 1 0 0 1 1 0 0 0 0 0 0 0 1 1 0 0 0 0 1 1 0 0 0 0 1 0\n",
            " 0 1 1 0 1 1 0 0 0 0 0 0 0 0 1 0 1 0 0 0 1 0 0 0 0 0 1 1 1 1 0 0 0 0 0 1 0\n",
            " 0 0 0 1 1 0 0 0 1 1 1 1 0 1 0 1 1 0 0 0 1 0 0 0 1 0 1 1 0 1 1 0 0 0 0 1 1\n",
            " 0 0 1 1 0 0 0 0 0 1 0 1 0 0 0 1 0 1 0 1 0 1 1 1 1 0 1 1 0 0 1 1 0 0 1 1 0\n",
            " 0 0 1 1 0 0 1 0 1 0 0 1 0 1 0 0 0 1 0 0 0 0 0 1 0 1 0 0 1 0 0 1 0 0 0 0 0\n",
            " 0 0 0 0 1 1 0 1 0 1 1 1 0 1 0 0 1 1 0 0 0 1 0 0 1 0 1 0 0 0 0 1 0 0 0 1 1\n",
            " 0 1 0 1 1 0 1 0 1 0 0 0 1 0 1 0 1 0 0 1 1 0 0 0 0 1 0 0 1 0 1 1 0 0 1 1 0\n",
            " 0 0 0 1 0 0 0 0 1 0 1 0 0 0 0 1 0 0 0 1 0 0 0 1 1 0 0 0 0 0 1 0 0 1 0 1 1\n",
            " 0 1 0 0 0 0 1 1 0 0 0 1 0 0 0 0 1 0 1 0 0 0 1 0 1 1 1 1 0 1 0 0 0 0 0 1 0\n",
            " 1 0 1 0 0 0 1 1 0 0 1 1 0 1 0 0 1 0 0 1 0 0 0 0 0 1 1 1 1 0 0 1 1 0 0 0 1\n",
            " 0 0 0 1 0 0 0 0 0 0 1 1 0 0 0 0 0 0 1 0 0 0 0 0 0 1 1 1 0 1 0 0 0 0 0 0 1\n",
            " 1 0 1 1 0 0 1 0 0 0 1 0 1 0 1 0 1 0 0 0 0 1 0 0 1 0 0 0 0 0 1 0 1 0 0 0 0\n",
            " 0 1 0 0 0 0 1 0 1 0 0 0 1 1 0 0 0 0 0 0 0 0 0 0 0 1 1 1 1 0 1 1 1 0 0 1 0\n",
            " 0 0 0 0 1 0 0 0 1 0 1 0 0 1 1 0 0 1 0 0 0]\n"
          ]
        }
      ]
    },
    {
      "cell_type": "code",
      "source": [
        "print(y_test)"
      ],
      "metadata": {
        "colab": {
          "base_uri": "https://localhost:8080/"
        },
        "id": "kK0gPncn-rcz",
        "outputId": "bcaeb905-8fcb-4db2-f66c-575234b88371"
      },
      "execution_count": 12,
      "outputs": [
        {
          "output_type": "stream",
          "name": "stdout",
          "text": [
            "[1 0 0 1 0 0 1 1 0 0 1 1 0 0 0 0 1 0 0 0 1 1 0 0 0 0 0 0 0 0 0 0 0 0 0 1 1\n",
            " 0 0 0 0 0 0 1 1 0 0 1 1 1 0 0 1 0 0 0 0 1 1 1 1 0 0 1 1 1 1 0 0 0 0 0 0 0\n",
            " 1 0 0 0 0 0 0 0 0 0 0 0 1 0 1 0 0 0 0 0 0 0 1 0 1 1 0 0 0 0 0 1 0 0 0 1 0\n",
            " 1 1 1 1 1 0 0 0 1 0 0 0 0 0 0 0 1 0 0 0 0 0 1 0 1 0 1 1 0 0 0 0 0 1 0 0 0\n",
            " 0 1 0 1 0 0 1 0 0 0 1 1 1 1 0 0 0 1 0 0 0 0 0 0 1 1 0 0 0 0 0 0 1 1 0 1 1\n",
            " 0 1 1 1 0 0 0]\n"
          ]
        }
      ]
    },
    {
      "cell_type": "code",
      "source": [
        "from sklearn.preprocessing import StandardScaler\n",
        "sc = StandardScaler()\n",
        "x_train = sc.fit_transform(x_train)\n",
        "x_test = sc.transform(x_test)"
      ],
      "metadata": {
        "id": "1Kz_yJL8-uH7"
      },
      "execution_count": 13,
      "outputs": []
    },
    {
      "cell_type": "code",
      "source": [
        "print(x_train)"
      ],
      "metadata": {
        "colab": {
          "base_uri": "https://localhost:8080/"
        },
        "id": "FF6npc3W-xu8",
        "outputId": "7f2b6a42-4afe-4fdd-823a-cd2f31ef4ed7"
      },
      "execution_count": 14,
      "outputs": [
        {
          "output_type": "stream",
          "name": "stdout",
          "text": [
            "[[-0.98325882 -0.04863985]\n",
            " [-0.62493647 -0.88246592]\n",
            " [ 0.39884168 -0.5489355 ]\n",
            " ...\n",
            " [-0.96519215 -1.04923114]\n",
            " [-0.5075031   0.11812536]\n",
            " [ 0.51627505  2.953134  ]]\n"
          ]
        }
      ]
    },
    {
      "cell_type": "code",
      "source": [
        "print(x_test)"
      ],
      "metadata": {
        "colab": {
          "base_uri": "https://localhost:8080/"
        },
        "id": "1MQMv2qd-ziF",
        "outputId": "6d69073c-0404-4920-bf31-f9ec8c6d8a55"
      },
      "execution_count": 15,
      "outputs": [
        {
          "output_type": "stream",
          "name": "stdout",
          "text": [
            "[[ 2.78665365 -0.96584853]\n",
            " [-0.19434743 -0.88246592]\n",
            " [-0.23349189 -0.71570071]\n",
            " [ 0.3566861   1.45224707]\n",
            " [ 0.5764973  -0.21540507]\n",
            " [-0.558692   -0.79908332]\n",
            " [ 1.27808644 -0.04863985]\n",
            " [ 2.06398672  1.53562968]\n",
            " [ 3.40694276 -0.71570071]\n",
            " [-0.4352364   1.7857775 ]\n",
            " [ 1.15161972 -0.46555289]\n",
            " [ 1.70265326  1.61901229]\n",
            " [ 0.82943072  1.95254271]\n",
            " [ 3.70504287 -0.71570071]\n",
            " [ 0.39583056  0.70180361]\n",
            " [ 0.95890854 -0.13202246]\n",
            " [ 0.75415291  0.20150797]\n",
            " [-0.66408093 -1.04923114]\n",
            " [-0.14918074  2.45283836]\n",
            " [ 0.09170823 -0.29878768]\n",
            " [ 0.2573194   0.28489057]\n",
            " [ 0.675864   -1.04923114]\n",
            " [ 0.91675297 -0.71570071]\n",
            " [-0.67913649  1.03533404]\n",
            " [ 0.05557489 -0.96584853]\n",
            " [ 0.13687491 -1.04923114]\n",
            " [ 0.34163054 -0.5489355 ]\n",
            " [ 2.12420896  0.45165579]\n",
            " [-0.48642531 -0.79908332]\n",
            " [-0.53159199 -0.29878768]\n",
            " [ 0.53735284  1.45224707]\n",
            " [ 0.08267489 -1.04923114]\n",
            " [ 0.68188622 -0.5489355 ]\n",
            " [ 1.0462308  -0.46555289]\n",
            " [-0.79355875 -0.79908332]\n",
            " [-1.00433661  0.618421  ]\n",
            " [-0.62794758  0.70180361]\n",
            " [-0.46835864 -1.04923114]\n",
            " [-0.56772534 -0.71570071]\n",
            " [-0.59482535 -0.6323181 ]\n",
            " [ 0.77221959 -0.88246592]\n",
            " [ 0.27237496 -1.04923114]\n",
            " [ 0.08568601 -0.13202246]\n",
            " [-0.68515872 -0.71570071]\n",
            " [-0.93508103  1.61901229]\n",
            " [ 0.31151942 -1.04923114]\n",
            " [-1.02541439 -1.04923114]\n",
            " [-0.75140318 -0.46555289]\n",
            " [ 1.31421978 -0.6323181 ]\n",
            " [ 0.20311938 -0.5489355 ]\n",
            " [-0.67311427  0.20150797]\n",
            " [-0.45330308 -0.96584853]\n",
            " [ 0.8234085   0.36827318]\n",
            " [-0.23349189  0.45165579]\n",
            " [-0.26360301 -0.71570071]\n",
            " [-0.98928105 -0.96584853]\n",
            " [-0.35393637 -0.21540507]\n",
            " [-0.78151431 -0.46555289]\n",
            " [ 0.22118606 -0.88246592]\n",
            " [-0.62493647 -0.29878768]\n",
            " [-0.91400324  0.78518622]\n",
            " [-0.25155856 -0.29878768]\n",
            " [-0.79054764 -1.04923114]\n",
            " [ 1.39853092 -0.71570071]\n",
            " [-0.37200305 -0.38217028]\n",
            " [ 2.17539787  0.45165579]\n",
            " [-0.50148087  1.28548186]\n",
            " [-0.64601426  0.53503839]\n",
            " [-0.26661412  0.70180361]\n",
            " [-0.56772534  0.36827318]\n",
            " [-0.93508103 -1.04923114]\n",
            " [-0.78151431  0.28489057]\n",
            " [-0.69419205 -0.71570071]\n",
            " [ 2.98839816  0.95195143]\n",
            " [ 0.03148599 -0.6323181 ]\n",
            " [-0.65203648 -0.29878768]\n",
            " [-0.55266978  1.11871664]\n",
            " [ 1.11548638  0.45165579]\n",
            " [-0.45631419  0.03474275]\n",
            " [-0.7544143  -0.29878768]\n",
            " [-0.83872544  0.70180361]\n",
            " [-0.20940299 -0.79908332]\n",
            " [ 0.69091956 -0.5489355 ]\n",
            " [-0.51051421 -1.04923114]\n",
            " [-0.55568089 -0.46555289]\n",
            " [-0.69720316 -0.38217028]\n",
            " [-0.20036965 -0.96584853]\n",
            " [-0.85980322 -0.04863985]\n",
            " [ 0.35367499  1.45224707]\n",
            " [-0.36598082 -1.04923114]\n",
            " [-1.10972554 -0.29878768]\n",
            " [-0.55568089 -0.5489355 ]\n",
            " [ 0.47411948 -0.71570071]\n",
            " [ 0.06761933 -0.96584853]\n",
            " [-0.3840475   1.36886446]\n",
            " [-0.11605851 -0.96584853]\n",
            " [ 1.21184197 -0.13202246]\n",
            " [-0.59783646 -0.5489355 ]\n",
            " [ 2.7746092   1.86916011]\n",
            " [-0.27865857  1.03533404]\n",
            " [-0.90798102 -0.5489355 ]\n",
            " [ 0.50724171 -1.04923114]\n",
            " [-0.83571433 -0.29878768]\n",
            " [-0.40512528 -0.71570071]\n",
            " [ 1.90439777 -0.79908332]\n",
            " [ 1.46477539 -0.04863985]\n",
            " [ 0.13988603 -1.04923114]\n",
            " [-0.89894768 -0.96584853]\n",
            " [-0.55568089 -0.29878768]\n",
            " [ 0.61263064 -0.13202246]\n",
            " [ 0.89567519 -0.96584853]\n",
            " [-0.62794758  0.20150797]\n",
            " [-1.02240328  0.618421  ]\n",
            " [ 2.56684246 -0.04863985]\n",
            " [-0.63396981 -0.96584853]\n",
            " [-0.91400324  1.11871664]\n",
            " [ 1.24195309 -0.96584853]\n",
            " [ 0.56144173 -0.79908332]\n",
            " [-0.98024771 -0.88246592]\n",
            " [ 0.95288632  1.20209925]\n",
            " [-0.70021428  0.36827318]\n",
            " [-0.49244753  2.61960357]\n",
            " [-0.95916993 -0.46555289]\n",
            " [-0.6309587   2.36945575]\n",
            " [-0.63999203 -1.04923114]\n",
            " [-0.83571433 -0.71570071]\n",
            " [ 0.38980834 -0.46555289]\n",
            " [ 0.5764973   0.11812536]\n",
            " [ 0.65779732  2.36945575]\n",
            " [-0.42921418 -0.96584853]\n",
            " [-0.17326964 -0.6323181 ]\n",
            " [-0.49244753 -0.79908332]\n",
            " [-0.53761422 -0.71570071]\n",
            " [ 0.70296401 -0.46555289]\n",
            " [ 0.81136405  0.618421  ]\n",
            " [ 0.59155286  1.03533404]\n",
            " [-0.86582545 -0.38217028]\n",
            " [-0.37501416 -0.21540507]\n",
            " [ 0.88061963 -0.5489355 ]\n",
            " [-0.04078071 -0.5489355 ]\n",
            " [-0.91099213 -0.71570071]\n",
            " [-0.39308083  0.28489057]\n",
            " [-0.84775877 -1.04923114]\n",
            " [-0.23349189  0.618421  ]\n",
            " [-0.63396981  0.70180361]\n",
            " [ 0.24828607 -1.04923114]\n",
            " [-0.38103638 -0.29878768]\n",
            " [-0.46835864  0.618421  ]\n",
            " [ 1.8863311  -0.96584853]\n",
            " [ 0.73006402 -0.38217028]\n",
            " [-0.48943642 -0.46555289]\n",
            " [ 0.53133061 -0.96584853]\n",
            " [-1.08864775 -0.79908332]\n",
            " [ 1.06128636 -0.79908332]\n",
            " [ 0.67285289  1.70239489]\n",
            " [-0.07691405 -0.96584853]\n",
            " [-0.12509185 -0.88246592]\n",
            " [ 1.09741971 -0.88246592]\n",
            " [-0.85980322  0.36827318]\n",
            " [ 0.32958609  0.53503839]\n",
            " [-0.42921418  1.11871664]\n",
            " [-1.02240328  2.11930793]\n",
            " [-0.43824752 -0.96584853]\n",
            " [ 0.74813069 -0.96584853]\n",
            " [-0.80861432  0.28489057]\n",
            " [-0.98626994 -0.79908332]\n",
            " [-0.86883656  0.618421  ]\n",
            " [-0.37802527 -0.88246592]\n",
            " [-0.95615881 -0.79908332]\n",
            " [-0.81764765  1.03533404]\n",
            " [ 0.27237496 -1.04923114]\n",
            " [ 0.71199734  0.45165579]\n",
            " [-0.64601426 -0.21540507]\n",
            " [-0.52858088  0.70180361]\n",
            " [-0.80861432  2.45283836]\n",
            " [-0.06788072 -0.96584853]\n",
            " [ 0.04955266  1.95254271]\n",
            " [-0.94110325  0.11812536]\n",
            " [-1.05552552 -0.5489355 ]\n",
            " [-0.83270321 -1.04923114]\n",
            " [-0.86883656  0.20150797]\n",
            " [-0.63698092  0.86856882]\n",
            " [ 0.48315282 -0.79908332]\n",
            " [ 4.28919863 -0.71570071]\n",
            " [ 2.14829786 -0.96584853]\n",
            " [ 0.3566861   0.20150797]\n",
            " [-0.59783646 -0.6323181 ]\n",
            " [-0.30274747 -0.38217028]\n",
            " [-0.14014741 -0.71570071]\n",
            " [ 1.4406865  -1.04923114]\n",
            " [-0.60385869  1.7857775 ]\n",
            " [-0.63396981  0.28489057]]\n"
          ]
        }
      ]
    },
    {
      "cell_type": "code",
      "source": [
        "from sklearn.naive_bayes import GaussianNB\n",
        "classifier = GaussianNB()\n",
        "classifier.fit(x_train, y_train)"
      ],
      "metadata": {
        "colab": {
          "base_uri": "https://localhost:8080/"
        },
        "id": "Ez2Bz4z0-3jr",
        "outputId": "6bdb0e94-1ef5-4d7b-ff47-5413af2beb17"
      },
      "execution_count": 16,
      "outputs": [
        {
          "output_type": "execute_result",
          "data": {
            "text/plain": [
              "GaussianNB()"
            ]
          },
          "metadata": {},
          "execution_count": 16
        }
      ]
    },
    {
      "cell_type": "code",
      "source": [
        "y_pred = classifier.predict(x_test)"
      ],
      "metadata": {
        "id": "wGzkFojU-9LD"
      },
      "execution_count": 17,
      "outputs": []
    },
    {
      "cell_type": "code",
      "source": [
        "from sklearn.metrics import confusion_matrix\n",
        "cm = confusion_matrix(y_test, y_pred)\n",
        "print(cm)"
      ],
      "metadata": {
        "colab": {
          "base_uri": "https://localhost:8080/"
        },
        "id": "byo1cwN5-_90",
        "outputId": "31a536ba-6bba-40ee-9ff9-44ebad487d12"
      },
      "execution_count": 18,
      "outputs": [
        {
          "output_type": "stream",
          "name": "stdout",
          "text": [
            "[[116  14]\n",
            " [ 48  14]]\n"
          ]
        }
      ]
    },
    {
      "cell_type": "code",
      "source": [
        "from matplotlib.colors import ListedColormap\n",
        "x_set, y_set = x_train, y_train\n",
        "x1, x2 = np.meshgrid(np.arange(start = x_set[:, 0].min()-1, stop = x_set[:, 0].max()+1, step=0.01),\n",
        "                     np.arange(start = x_set[:, 1].min()-1, stop = x_set[:, 0].max()+1, step=0.01))\n",
        "plt.contourf(x1,x2, classifier.predict(np.array([x1.ravel(), x2.ravel()]).T).reshape(x1.shape),\n",
        "             alpha = 0.75, cmap = ListedColormap(('red', 'green')))\n",
        "plt.xlim(x1.min(), x1.max())\n",
        "plt.ylim(x2.min(), x2.max())\n",
        "for i, j in enumerate (np.unique(y_set)):\n",
        "  plt.scatter(x_set[y_set == j,0], x_set[y_set == j, 1],\n",
        "              c = ListedColormap(('red','green'))(i), label = j)\n",
        "plt.title('Klasifikasi Data dengan Naive Bayes (Data Training)')\n",
        "plt.xlabel('DiabetesPedigreeFunction')\n",
        "plt.ylabel('umur')\n",
        "plt.legend()\n",
        "plt.show()"
      ],
      "metadata": {
        "colab": {
          "base_uri": "https://localhost:8080/",
          "height": 350
        },
        "id": "4vptWnXv_DyT",
        "outputId": "bb5e0eee-282e-495f-b26f-16fdaaa96257"
      },
      "execution_count": 19,
      "outputs": [
        {
          "output_type": "stream",
          "name": "stderr",
          "text": [
            "*c* argument looks like a single numeric RGB or RGBA sequence, which should be avoided as value-mapping will have precedence in case its length matches with *x* & *y*.  Please use the *color* keyword-argument or provide a 2-D array with a single row if you intend to specify the same RGB or RGBA value for all points.\n",
            "*c* argument looks like a single numeric RGB or RGBA sequence, which should be avoided as value-mapping will have precedence in case its length matches with *x* & *y*.  Please use the *color* keyword-argument or provide a 2-D array with a single row if you intend to specify the same RGB or RGBA value for all points.\n"
          ]
        },
        {
          "output_type": "display_data",
          "data": {
            "text/plain": [
              "<Figure size 432x288 with 1 Axes>"
            ],
            "image/png": "[encoded data removed]"
          },
          "metadata": {
            "needs_background": "light"
          }
        }
      ]
    },
    {
      "cell_type": "code",
      "source": [
        "from matplotlib.colors import ListedColormap\n",
        "x_set, y_set = x_test, y_test\n",
        "x1, x2 = np.meshgrid(np.arange(start = x_set[:, 0].min()-1, stop = x_set[:, 0].max()+1, step=0.01),\n",
        "                     np.arange(start = x_set[:, 1].min()-1, stop = x_set[:, 0].max()+1, step=0.01))\n",
        "plt.contourf(x1,x2, classifier.predict(np.array([x1.ravel(), x2.ravel()]).T).reshape(x1.shape),\n",
        "             alpha = 0.75, cmap = ListedColormap(('red', 'green')))\n",
        "plt.xlim(x1.min(), x1.max())\n",
        "plt.ylim(x2.min(), x2.max())\n",
        "for i, j in enumerate (np.unique(y_set)):\n",
        "  plt.scatter(x_set[y_set == j,0], x_set[y_set == j, 1],\n",
        "              c = ListedColormap(('red','green'))(i), label = j)\n",
        "plt.title('Klasifikasi Data dengan Naive Bayes (Data Testing)')\n",
        "plt.xlabel('DiabetesPedigreeFunction')\n",
        "plt.ylabel('umur')\n",
        "plt.legend()\n",
        "plt.show()"
      ],
      "metadata": {
        "colab": {
          "base_uri": "https://localhost:8080/",
          "height": 350
        },
        "id": "A6OLFdxR_kuz",
        "outputId": "d267a9a6-ac1f-4ab7-d30d-e4b49ed05f4d"
      },
      "execution_count": 20,
      "outputs": [
        {
          "output_type": "stream",
          "name": "stderr",
          "text": [
            "*c* argument looks like a single numeric RGB or RGBA sequence, which should be avoided as value-mapping will have precedence in case its length matches with *x* & *y*.  Please use the *color* keyword-argument or provide a 2-D array with a single row if you intend to specify the same RGB or RGBA value for all points.\n",
            "*c* argument looks like a single numeric RGB or RGBA sequence, which should be avoided as value-mapping will have precedence in case its length matches with *x* & *y*.  Please use the *color* keyword-argument or provide a 2-D array with a single row if you intend to specify the same RGB or RGBA value for all points.\n"
          ]
        },
        {
          "output_type": "display_data",
          "data": {
            "text/plain": [
              "<Figure size 432x288 with 1 Axes>"
            ],
            "image/png": "[encoded data removed]"
          },
          "metadata": {
            "needs_background": "light"
          }
        }
      ]
    }
  ]
}